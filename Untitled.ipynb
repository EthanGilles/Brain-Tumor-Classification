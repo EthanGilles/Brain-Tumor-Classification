{
 "cells": [
  {
   "cell_type": "markdown",
   "id": "516e04b4-85e8-4c1f-95b3-213df93e1527",
   "metadata": {},
   "source": [
    "# Brain Tumor MRI Classification\n",
    "\n",
    "#  Xception-KNN Hybrid Model\n",
    "\n",
    "### Author: Ethan Gilles\n",
    "\n",
    "---\n",
    "\n",
    "## Importing libraries"
   ]
  },
  {
   "cell_type": "code",
   "execution_count": null,
   "id": "a6f605a9-e7bc-4814-a664-fa1134962991",
   "metadata": {},
   "outputs": [],
   "source": []
  }
 ],
 "metadata": {
  "kernelspec": {
   "display_name": "Python 3 (ipykernel)",
   "language": "python",
   "name": "python3"
  },
  "language_info": {
   "codemirror_mode": {
    "name": "ipython",
    "version": 3
   },
   "file_extension": ".py",
   "mimetype": "text/x-python",
   "name": "python",
   "nbconvert_exporter": "python",
   "pygments_lexer": "ipython3",
   "version": "3.12.2"
  }
 },
 "nbformat": 4,
 "nbformat_minor": 5
}
